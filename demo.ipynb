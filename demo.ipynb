{
 "cells": [
  {
   "cell_type": "markdown",
   "id": "ee45b747",
   "metadata": {},
   "source": [
    "### Demo and submission notebook\n",
    "\n",
    "Create conda envrionment `viv1t` and install dependencies:\n",
    "```bash\n",
    "conda create -n viv1t python=3.11\n",
    "conda activate viv1t\n",
    "pip install torch==2.1 torchvision torchaudio\n",
    "pip install -e .\n",
    "```\n",
    "\n",
    "Note\n",
    "- GPU with more than 20GB of VRAM is needed to inference the live bonus set, while 11GB is fine for the live and final main sets.\n",
    "- The submission we made was done in `torch.bfloat16` which can be slightly different than inferencing in `torch.float32` though the difference are very minor, about $\\pm 0.00001$ difference in single trial correlation in the validation set."
   ]
  },
  {
   "cell_type": "code",
   "execution_count": null,
   "id": "initial_id",
   "metadata": {
    "ExecuteTime": {
     "end_time": "2023-10-16T19:28:01.952465Z",
     "start_time": "2023-10-16T19:27:59.452511Z"
    },
    "execution": {
     "iopub.execute_input": "2023-10-17T22:28:59.954934Z",
     "iopub.status.busy": "2023-10-17T22:28:59.954339Z",
     "iopub.status.idle": "2023-10-17T22:29:05.419277Z",
     "shell.execute_reply": "2023-10-17T22:29:05.418536Z"
    }
   },
   "outputs": [],
   "source": [
    "import argparse\n",
    "import os\n",
    "from typing import Any, Dict, List, Literal\n",
    "\n",
    "import numpy as np\n",
    "import torch\n",
    "import pandas as pd\n",
    "from einops import rearrange\n",
    "from torch import nn\n",
    "from tqdm import tqdm\n",
    "from torch.utils.data import DataLoader\n",
    "\n",
    "from viv1t import data\n",
    "from viv1t.model import Model\n",
    "from viv1t.utils import utils\n",
    "from viv1t.metrics import single_trial_correlation"
   ]
  },
  {
   "cell_type": "markdown",
   "id": "c5222c4b",
   "metadata": {},
   "source": [
    "Run configuration\n",
    "- `DEVICE`: `torch.device` to run the model\n",
    "- `DATA_DIR`: path to directory where data from the 5 mice are stored, with the following format:\n",
    "    ```\n",
    "    data/\n",
    "        sensorium/\n",
    "            dynamic29515-10-12-Video-9b4f6a1a067fe51e15306b9628efea20.zip\n",
    "            dynamic29623-4-9-Video-9b4f6a1a067fe51e15306b9628efea20.zip\n",
    "            dynamic29647-19-8-Video-9b4f6a1a067fe51e15306b9628efea20.zip\n",
    "            dynamic29712-5-9-Video-9b4f6a1a067fe51e15306b9628efea20.zip\n",
    "            dynamic29755-2-8-Video-9b4f6a1a067fe51e15306b9628efea20.zip\n",
    "    ```\n",
    "    The data reader automatically unzip the files if a folder of the same name does not exist. **Note that we recompute the statistics for normalization/standardization from the training set and store the result to `mouse_dir/statistics.pkl`.**\n",
    "- `PRECISION`: core module computation precision, only `32` (`torch.float32`) and `bf16` (`torch.bfloat16`) are supported. Note that all of our models were trained and inferenced in `torch.bfloat16`.\n",
    "- `MOUSE_IDS`: we assigned each mouse with a shorter unique ID for convenience, this dictionary provides the mapping to the original mouse ID provided.\n",
    "- `LIVE_MAIN_FILENAME`: filename to store live main test set parquet submission\n",
    "- `FINAL_MAIN_FILENAME`: filename to store final main test set parquet submission "
   ]
  },
  {
   "cell_type": "code",
   "execution_count": null,
   "id": "ec8889d5a0657511",
   "metadata": {
    "ExecuteTime": {
     "end_time": "2023-10-16T19:28:01.956376Z",
     "start_time": "2023-10-16T19:28:01.953031Z"
    },
    "execution": {
     "iopub.execute_input": "2023-10-17T22:29:05.424972Z",
     "iopub.status.busy": "2023-10-17T22:29:05.424382Z",
     "iopub.status.idle": "2023-10-17T22:29:05.429357Z",
     "shell.execute_reply": "2023-10-17T22:29:05.428807Z"
    }
   },
   "outputs": [],
   "source": [
    "# DEVICE = torch.device(\"cuda:0\")\n",
    "DEVICE = torch.device(\"cpu\")\n",
    "\n",
    "DATA_DIR = \"data/sensorium\"\n",
    "\n",
    "SKIP = 51\n",
    "\n",
    "PRECISION = \"32\"\n",
    "assert PRECISION in (\"bf16\", \"32\")\n",
    "if PRECISION == \"bf16\" and not utils.support_bf16(DEVICE):\n",
    "    raise TypeError(\n",
    "        f\"Device {DEVICE} does not support torch.bfloat16, please use torch.float32 instead.\"\n",
    "    )\n",
    "\n",
    "MOUSE_IDS = {\n",
    "    \"F\": \"dynamic29515-10-12-Video-9b4f6a1a067fe51e15306b9628efea20\",\n",
    "    \"G\": \"dynamic29623-4-9-Video-9b4f6a1a067fe51e15306b9628efea20\",\n",
    "    \"H\": \"dynamic29647-19-8-Video-9b4f6a1a067fe51e15306b9628efea20\",\n",
    "    \"I\": \"dynamic29712-5-9-Video-9b4f6a1a067fe51e15306b9628efea20\",\n",
    "    \"J\": \"dynamic29755-2-8-Video-9b4f6a1a067fe51e15306b9628efea20\",\n",
    "}\n",
    "\n",
    "LIVE_MAIN_FILENAME = \"predictions_live_main.parquet.brotli\"\n",
    "FINAL_MAIN_FILENAME = \"predictions_final_main.parquet.brotli\""
   ]
  },
  {
   "cell_type": "markdown",
   "id": "def801ca",
   "metadata": {},
   "source": [
    "#### Dataset configration\n",
    "\n",
    "`batch_size` and `micro_batch_size` must be 1."
   ]
  },
  {
   "cell_type": "code",
   "execution_count": null,
   "id": "c2c9882325574395",
   "metadata": {
    "ExecuteTime": {
     "end_time": "2023-10-16T19:28:01.967122Z",
     "start_time": "2023-10-16T19:28:01.963703Z"
    },
    "execution": {
     "iopub.execute_input": "2023-10-17T22:29:05.434608Z",
     "iopub.status.busy": "2023-10-17T22:29:05.434282Z",
     "iopub.status.idle": "2023-10-17T22:29:05.438474Z",
     "shell.execute_reply": "2023-10-17T22:29:05.437761Z"
    }
   },
   "outputs": [],
   "source": [
    "args = argparse.Namespace()\n",
    "args.data = DATA_DIR\n",
    "args.device = DEVICE\n",
    "args.precision = PRECISION\n",
    "args.mouse_ids = list(MOUSE_IDS.keys())\n",
    "args.batch_size = 1\n",
    "args.micro_batch_size = 1\n",
    "args.ds_mode = 3\n",
    "args.stat_mode = 1\n",
    "args.transform_mode = 2\n",
    "args.num_workers = 0\n",
    "args.verbose = 1"
   ]
  },
  {
   "cell_type": "markdown",
   "id": "f514c466",
   "metadata": {},
   "source": [
    "#### Load validation and test sets\n",
    "\n",
    "Compute data statistics of the training set if this is the first time running and store under `<mouse_dir>/statistics.pkl`."
   ]
  },
  {
   "cell_type": "code",
   "execution_count": null,
   "id": "7ab98e2ee156afb0",
   "metadata": {
    "ExecuteTime": {
     "end_time": "2023-10-16T19:28:03.604625Z",
     "start_time": "2023-10-16T19:28:01.967555Z"
    },
    "execution": {
     "iopub.execute_input": "2023-10-17T22:29:05.443623Z",
     "iopub.status.busy": "2023-10-17T22:29:05.443305Z",
     "iopub.status.idle": "2023-10-17T22:46:09.519375Z",
     "shell.execute_reply": "2023-10-17T22:46:09.518532Z"
    }
   },
   "outputs": [],
   "source": [
    "val_ds, test_ds = data.get_submission_ds(\n",
    "    args,\n",
    "    data_dir=args.data,\n",
    "    mouse_ids=args.mouse_ids,\n",
    "    batch_size=args.batch_size,\n",
    "    device=args.device,\n",
    ")"
   ]
  },
  {
   "cell_type": "markdown",
   "id": "ca27e98e",
   "metadata": {},
   "source": [
    "Validation DataLoaders have the format of `{mouse_id: DataLoader}`"
   ]
  },
  {
   "cell_type": "code",
   "execution_count": null,
   "id": "98cacdfb8c7c0353",
   "metadata": {
    "ExecuteTime": {
     "end_time": "2023-10-16T19:28:03.616322Z",
     "start_time": "2023-10-16T19:28:03.606460Z"
    },
    "execution": {
     "iopub.execute_input": "2023-10-17T22:46:09.523066Z",
     "iopub.status.busy": "2023-10-17T22:46:09.522693Z",
     "iopub.status.idle": "2023-10-17T22:46:09.526674Z",
     "shell.execute_reply": "2023-10-17T22:46:09.526211Z"
    }
   },
   "outputs": [],
   "source": [
    "print(val_ds)"
   ]
  },
  {
   "cell_type": "markdown",
   "id": "acf86e37",
   "metadata": {},
   "source": [
    "Test DataLoaders have the format of `{tier: {mouse_id: DataLoader}}` where `tier` is `['live_main', 'live_bonus', 'final_main', 'final_bonus']`."
   ]
  },
  {
   "cell_type": "code",
   "execution_count": null,
   "id": "8fb125b9897d82e5",
   "metadata": {
    "ExecuteTime": {
     "end_time": "2023-10-16T19:28:03.616602Z",
     "start_time": "2023-10-16T19:28:03.610092Z"
    },
    "execution": {
     "iopub.execute_input": "2023-10-17T22:46:09.528922Z",
     "iopub.status.busy": "2023-10-17T22:46:09.528704Z",
     "iopub.status.idle": "2023-10-17T22:46:09.531614Z",
     "shell.execute_reply": "2023-10-17T22:46:09.531176Z"
    }
   },
   "outputs": [],
   "source": [
    "print(test_ds.keys())\n",
    "print(test_ds[\"live_main\"].keys())"
   ]
  },
  {
   "cell_type": "markdown",
   "id": "6142daab",
   "metadata": {},
   "source": [
    "#### Ensemble model that returns mean response over all models"
   ]
  },
  {
   "cell_type": "code",
   "execution_count": null,
   "id": "2ad585f7",
   "metadata": {
    "execution": {
     "iopub.execute_input": "2023-10-17T22:46:09.533983Z",
     "iopub.status.busy": "2023-10-17T22:46:09.533631Z",
     "iopub.status.idle": "2023-10-17T22:46:09.542678Z",
     "shell.execute_reply": "2023-10-17T22:46:09.542175Z"
    }
   },
   "outputs": [],
   "source": [
    "class EnsembleModel(nn.Module):\n",
    "    def __init__(\n",
    "        self,\n",
    "        args: Any,\n",
    "        saved_models: Dict[str, str],\n",
    "        neuron_coordinates: Dict[str, torch.Tensor],\n",
    "    ):\n",
    "        super(EnsembleModel, self).__init__()\n",
    "        self.input_shapes = args.input_shapes\n",
    "        self.output_shapes = args.output_shapes\n",
    "        self.ensemble = nn.ModuleDict()\n",
    "        for name, output_dir in saved_models.items():\n",
    "            self.ensemble[name] = self.load_model(\n",
    "                output_dir,\n",
    "                neuron_coordinates=neuron_coordinates,\n",
    "                device=args.device,\n",
    "                precision=args.precision,\n",
    "            )\n",
    "        self.ensemble.requires_grad_(False)\n",
    "\n",
    "    def load_model(\n",
    "        self,\n",
    "        output_dir: str,\n",
    "        neuron_coordinates: Dict[str, torch.Tensor],\n",
    "        device: torch.device,\n",
    "        precision: Literal['bf16', '32'] = None,\n",
    "    ):\n",
    "        # load model configuration and initialize model\n",
    "        model_args = argparse.Namespace()\n",
    "        model_args.output_dir = output_dir\n",
    "        model_args.device = device\n",
    "        model_args.precision = precision\n",
    "        utils.load_args(model_args)\n",
    "        model = Model(model_args, neuron_coordinates=neuron_coordinates)\n",
    "        # load checkpoint dictionary to CPU\n",
    "        filename = os.path.join(output_dir, \"ckpt\", \"model_state.pt\")\n",
    "        ckpt = torch.load(filename, map_location=\"cpu\")\n",
    "        # restore weights from checkpoint that exists in current model\n",
    "        state_dict = model.state_dict()\n",
    "        state_dict.update({k: v for k, v in ckpt[\"model\"].items() if k in state_dict})\n",
    "        model.load_state_dict(state_dict)\n",
    "        print(\n",
    "            f\"Loaded checkpoint from {output_dir} (validation correlation: {ckpt['value']:.04f}).\"\n",
    "        )\n",
    "        del ckpt, model_args\n",
    "        return model\n",
    "\n",
    "    @torch.inference_mode()\n",
    "    def forward(\n",
    "        self,\n",
    "        inputs: torch.Tensor,\n",
    "        mouse_id: str,\n",
    "        behaviors: torch.Tensor,\n",
    "        pupil_centers: torch.Tensor,\n",
    "    ):\n",
    "        outputs = []\n",
    "        for name in self.ensemble.keys():\n",
    "            y_pred, _ = self.ensemble[name](\n",
    "                inputs,\n",
    "                mouse_id=mouse_id,\n",
    "                behaviors=behaviors,\n",
    "                pupil_centers=pupil_centers,\n",
    "            )\n",
    "            outputs.append(rearrange(y_pred, \"b t n -> b t n 1\"))\n",
    "        outputs = torch.cat(outputs, dim=-1)\n",
    "        outputs = torch.mean(outputs, dim=-1)\n",
    "        return outputs"
   ]
  },
  {
   "cell_type": "markdown",
   "id": "671a431c",
   "metadata": {},
   "source": [
    "##### Initialize ensemble model of 5 ViViT models trained with different random seeds\n",
    "- `saved_models` specifies the name of the model and the path to the model checkpoint.\n",
    "- `neuron_coordinates` is a dictionary of `{mouse_id: neuron_coordinates}` from `cell_motor_coordinates.npy`"
   ]
  },
  {
   "cell_type": "code",
   "execution_count": null,
   "id": "f4ec45f3b70f3c8a",
   "metadata": {
    "ExecuteTime": {
     "end_time": "2023-10-16T19:28:04.259258Z",
     "start_time": "2023-10-16T19:28:03.613655Z"
    },
    "execution": {
     "iopub.execute_input": "2023-10-17T22:46:09.545039Z",
     "iopub.status.busy": "2023-10-17T22:46:09.544679Z",
     "iopub.status.idle": "2023-10-17T22:46:11.523623Z",
     "shell.execute_reply": "2023-10-17T22:46:11.523034Z"
    }
   },
   "outputs": [],
   "source": [
    "model = EnsembleModel(\n",
    "    args,\n",
    "    saved_models={\n",
    "        \"001\": \"runs/001\",\n",
    "        \"002\": \"runs/002\",\n",
    "        \"003\": \"runs/003\",\n",
    "        \"004\": \"runs/004\",\n",
    "        \"005\": \"runs/005\",\n",
    "    },\n",
    "    neuron_coordinates={\n",
    "        mouse_id: ds.dataset.neuron_coordinates for mouse_id, ds in val_ds.items()\n",
    "    },\n",
    ")"
   ]
  },
  {
   "cell_type": "code",
   "execution_count": null,
   "id": "36aeb5334fac6735",
   "metadata": {
    "ExecuteTime": {
     "end_time": "2023-10-16T19:28:04.259499Z",
     "start_time": "2023-10-16T19:28:04.254854Z"
    },
    "execution": {
     "iopub.execute_input": "2023-10-17T22:46:11.528177Z",
     "iopub.status.busy": "2023-10-17T22:46:11.527836Z",
     "iopub.status.idle": "2023-10-17T22:46:11.535131Z",
     "shell.execute_reply": "2023-10-17T22:46:11.534635Z"
    }
   },
   "outputs": [],
   "source": [
    "@torch.inference_mode()\n",
    "def inference(ds: DataLoader, model: nn.Module, device: torch.device) -> Dict[str, Any]:\n",
    "    \"\"\"\n",
    "    Inference data in DataLoader and return dictionary with entries for submission.\n",
    "\n",
    "    Given the test sets have variable frames, we therefore inference 1 sample\n",
    "    at a time and return a list of (N, T) Tensor.\n",
    "\n",
    "    Returns:\n",
    "        result: Dict[str, torch.Tensor]\n",
    "            - prediction: List[torch.Tensor], list predicted responses in (N, T)\n",
    "            - response: List[torch.Tensor], list of recorded responses in (N, T)\n",
    "            - mouse: List[str], list of original mouse IDs\n",
    "            - trial_indices: List[int], list of trial indices\n",
    "            - neuron_ids: List[List[int]], list of neuron IDs\n",
    "    \"\"\"\n",
    "    model = model.to(device)\n",
    "    model.train(False)\n",
    "    result = {\"prediction\": [], \"response\": []}\n",
    "    mouse_id = ds.dataset.mouse_id\n",
    "    to_batch = lambda x: torch.unsqueeze(x, dim=0).to(device)\n",
    "    for i in tqdm(range(len(ds.dataset.trial_ids))):\n",
    "        sample = ds.dataset.__getitem__(i, to_tensor=True)\n",
    "        t = sample[\"video\"].shape[1] - SKIP\n",
    "        predictions = model(\n",
    "            inputs=to_batch(sample[\"video\"]),\n",
    "            mouse_id=mouse_id,\n",
    "            behaviors=to_batch(sample[\"behavior\"]),\n",
    "            pupil_centers=to_batch(sample[\"pupil_center\"]),\n",
    "        )\n",
    "        result[\"prediction\"].append(predictions[0, :, -t:].cpu().numpy())\n",
    "        result[\"response\"].append(sample[\"response\"][:, -t:].cpu().numpy())\n",
    "    # metadata for submission\n",
    "    num_trials = len(result[\"prediction\"])\n",
    "    result[\"mouse\"] = [MOUSE_IDS[mouse_id]] * num_trials\n",
    "    result[\"trial_indices\"] = ds.dataset.trial_ids.tolist()\n",
    "    result[\"neuron_ids\"] = [ds.dataset.neuron_ids.tolist()] * num_trials\n",
    "    return result"
   ]
  },
  {
   "cell_type": "markdown",
   "id": "bf8e89ac",
   "metadata": {},
   "source": [
    "#### Inference validation set\n",
    "We recorded an average validation correlation of 0.260771 when inferencing in `torch.bfloat16`."
   ]
  },
  {
   "cell_type": "code",
   "execution_count": null,
   "id": "adb778f8",
   "metadata": {
    "execution": {
     "iopub.execute_input": "2023-10-17T22:46:11.539464Z",
     "iopub.status.busy": "2023-10-17T22:46:11.539117Z",
     "iopub.status.idle": "2023-10-17T22:53:17.733489Z",
     "shell.execute_reply": "2023-10-17T22:53:17.732421Z"
    }
   },
   "outputs": [],
   "source": [
    "val_corrs = {}\n",
    "for mouse_id in MOUSE_IDS.keys():\n",
    "    print(f\"Mouse {mouse_id} ({MOUSE_IDS[mouse_id]})\")\n",
    "    result = inference(ds=val_ds[mouse_id], model=model, device=args.device)\n",
    "    val_corrs[mouse_id] = single_trial_correlation(\n",
    "        y_true=result[\"response\"], y_pred=result[\"prediction\"]\n",
    "    ).item()\n",
    "    print(f\"Mouse {mouse_id} validation correlation: {val_corrs[mouse_id]:.06f}\\n\")"
   ]
  },
  {
   "cell_type": "code",
   "execution_count": null,
   "id": "3c418c88",
   "metadata": {
    "execution": {
     "iopub.execute_input": "2023-10-17T22:53:17.741322Z",
     "iopub.status.busy": "2023-10-17T22:53:17.740755Z",
     "iopub.status.idle": "2023-10-17T22:53:17.749781Z",
     "shell.execute_reply": "2023-10-17T22:53:17.748609Z"
    }
   },
   "outputs": [],
   "source": [
    "val_corr = np.mean(list(val_corrs.values()))\n",
    "print(f\"average validation single trial correlation: {val_corr:.06f}\")"
   ]
  },
  {
   "cell_type": "markdown",
   "id": "90850720",
   "metadata": {},
   "source": [
    "#### Function to inference and create parquet file for submission"
   ]
  },
  {
   "cell_type": "code",
   "execution_count": null,
   "id": "b40d9923",
   "metadata": {
    "execution": {
     "iopub.execute_input": "2023-10-17T22:53:17.755131Z",
     "iopub.status.busy": "2023-10-17T22:53:17.754716Z",
     "iopub.status.idle": "2023-10-17T22:53:17.768277Z",
     "shell.execute_reply": "2023-10-17T22:53:17.767099Z"
    }
   },
   "outputs": [],
   "source": [
    "def create_parquet(\n",
    "    mouse_ids: List[str],\n",
    "    ds: Dict[str, DataLoader],\n",
    "    model: EnsembleModel,\n",
    "    device: torch.device,\n",
    "    filename: str,\n",
    ") -> pd.DataFrame:\n",
    "    \"\"\"\n",
    "    Inference dataset and create parquet file for submission\n",
    "\n",
    "    Args:\n",
    "        mouse_ids: List[str], list of mouse IDs to inference\n",
    "        ds: Dict[str, DataLoader], dictionart of DataLoader for each mouse\n",
    "        model: EnsembleModel, model to inference\n",
    "        device: torch.device, device to inference on\n",
    "        filename: str, filename to save parquet file\n",
    "    Returns:\n",
    "        df: pd.DataFrame, DataFrame containing submission data for mouse_ids\n",
    "    \"\"\"\n",
    "    df = []\n",
    "    for mouse_id in mouse_ids:\n",
    "        print(f\"Mouse {mouse_id} ({MOUSE_IDS[mouse_id]})\")\n",
    "        result = inference(ds=ds[mouse_id], model=model, device=device)\n",
    "        del result[\"response\"]\n",
    "        # convert list of np.ndarray to list of list of float\n",
    "        result[\"prediction\"] = [v.tolist() for v in result[\"prediction\"]]\n",
    "        df.append(pd.DataFrame(result))\n",
    "        print(\"\")\n",
    "    df = pd.concat(df, ignore_index=True)\n",
    "\n",
    "    # create folder if not exists\n",
    "    dirname = os.path.dirname(filename)\n",
    "    if dirname and not os.path.isdir(dirname):\n",
    "        os.makedirs(dirname)\n",
    "\n",
    "    # create parquet file\n",
    "    print(f\"Creating parquet file...\")\n",
    "    df.to_parquet(filename, compression=\"brotli\", engine=\"pyarrow\", index=False)\n",
    "    print(f\"Saved parquet file to {filename}\")\n",
    "    return df"
   ]
  },
  {
   "cell_type": "markdown",
   "id": "b60f6c1c",
   "metadata": {},
   "source": [
    "#### Inference live main test set"
   ]
  },
  {
   "cell_type": "code",
   "execution_count": null,
   "id": "201b0f19",
   "metadata": {
    "execution": {
     "iopub.execute_input": "2023-10-17T22:53:17.773757Z",
     "iopub.status.busy": "2023-10-17T22:53:17.773363Z",
     "iopub.status.idle": "2023-10-17T23:09:46.708291Z",
     "shell.execute_reply": "2023-10-17T23:09:46.707437Z"
    }
   },
   "outputs": [],
   "source": [
    "live_main_df = create_parquet(\n",
    "    mouse_ids=MOUSE_IDS,\n",
    "    ds=test_ds[\"live_main\"],\n",
    "    model=model,\n",
    "    device=args.device,\n",
    "    filename=LIVE_MAIN_FILENAME,\n",
    ")"
   ]
  },
  {
   "cell_type": "code",
   "execution_count": null,
   "id": "0f1664d2",
   "metadata": {
    "execution": {
     "iopub.execute_input": "2023-10-17T23:09:46.713266Z",
     "iopub.status.busy": "2023-10-17T23:09:46.713062Z",
     "iopub.status.idle": "2023-10-17T23:09:46.963374Z",
     "shell.execute_reply": "2023-10-17T23:09:46.962855Z"
    }
   },
   "outputs": [],
   "source": [
    "live_main_df.head()"
   ]
  },
  {
   "cell_type": "markdown",
   "id": "60dd869c",
   "metadata": {},
   "source": [
    "#### Inference final main test set"
   ]
  },
  {
   "cell_type": "code",
   "execution_count": null,
   "id": "4e3c84ee",
   "metadata": {
    "execution": {
     "iopub.execute_input": "2023-10-17T23:09:46.969081Z",
     "iopub.status.busy": "2023-10-17T23:09:46.968933Z",
     "iopub.status.idle": "2023-10-17T23:27:35.885033Z",
     "shell.execute_reply": "2023-10-17T23:27:35.884144Z"
    }
   },
   "outputs": [],
   "source": [
    "final_main_df = create_parquet(\n",
    "    mouse_ids=MOUSE_IDS,\n",
    "    ds=test_ds[\"final_main\"],\n",
    "    model=model,\n",
    "    device=args.device,\n",
    "    filename=FINAL_MAIN_FILENAME,\n",
    ")"
   ]
  },
  {
   "cell_type": "code",
   "execution_count": null,
   "id": "70cb8706",
   "metadata": {
    "execution": {
     "iopub.execute_input": "2023-10-17T23:27:35.890744Z",
     "iopub.status.busy": "2023-10-17T23:27:35.890504Z",
     "iopub.status.idle": "2023-10-17T23:27:36.137857Z",
     "shell.execute_reply": "2023-10-17T23:27:36.137288Z"
    }
   },
   "outputs": [],
   "source": [
    "final_main_df.head()"
   ]
  }
 ],
 "metadata": {
  "kernelspec": {
   "display_name": "Python 3",
   "language": "python",
   "name": "python3"
  },
  "language_info": {
   "codemirror_mode": {
    "name": "ipython",
    "version": 3
   },
   "file_extension": ".py",
   "mimetype": "text/x-python",
   "name": "python",
   "nbconvert_exporter": "python",
   "pygments_lexer": "ipython3",
   "version": "3.11.9"
  }
 },
 "nbformat": 4,
 "nbformat_minor": 5
}
